{
 "cells": [
  {
   "cell_type": "markdown",
   "metadata": {},
   "source": [
    "2 Peticiones del Cliente hacia Endpoint de prediccion con regresion logistica"
   ]
  },
  {
   "cell_type": "code",
   "execution_count": 38,
   "metadata": {},
   "outputs": [
    {
     "name": "stdout",
     "output_type": "stream",
     "text": [
      "{\n",
      "  \"prediccion\": 1\n",
      "}\n"
     ]
    },
    {
     "name": "stderr",
     "output_type": "stream",
     "text": [
      "  % Total    % Received % Xferd  Average Speed   Time    Time     Time  Current\n",
      "                                 Dload  Upload   Total   Spent    Left  Speed\n",
      "\n",
      "  0     0    0     0    0     0      0      0 --:--:-- --:--:-- --:--:--     0\n",
      "100    52  100    22  100    30   4406   6008 --:--:-- --:--:-- --:--:-- 13000\n"
     ]
    }
   ],
   "source": [
    "!curl --request POST \"http://127.0.0.1:8000/regression_logistic_predict\" \\\n",
    "--header \"Content-Type: application/json\" \\\n",
    "--data-raw \"{\\\n",
    "    \\\"new_flower\\\":[1.5,2.5]\\\n",
    "}\"  "
   ]
  },
  {
   "cell_type": "code",
   "execution_count": 52,
   "metadata": {},
   "outputs": [
    {
     "name": "stdout",
     "output_type": "stream",
     "text": [
      "{\n",
      "  \"prediccion\": 0\n",
      "}\n"
     ]
    },
    {
     "name": "stderr",
     "output_type": "stream",
     "text": [
      "  % Total    % Received % Xferd  Average Speed   Time    Time     Time  Current\n",
      "                                 Dload  Upload   Total   Spent    Left  Speed\n",
      "\n",
      "  0     0    0     0    0     0      0      0 --:--:-- --:--:-- --:--:--     0\n",
      "100    54  100    22  100    32   6057   8810 --:--:-- --:--:-- --:--:-- 18000\n"
     ]
    }
   ],
   "source": [
    "!curl --request POST \"http://127.0.0.1:8000/regression_logistic_predict\" \\\n",
    "--header \"Content-Type: application/json\" \\\n",
    "--data-raw \"{\\\n",
    "      \\\"new_flower\\\":[0.4,2.5]\\\n",
    "}\"  "
   ]
  },
  {
   "cell_type": "markdown",
   "metadata": {},
   "source": [
    "2 Peticiones del Cliente hacia Endpoint de prediccion con SVM"
   ]
  },
  {
   "cell_type": "code",
   "execution_count": 37,
   "metadata": {},
   "outputs": [
    {
     "name": "stdout",
     "output_type": "stream",
     "text": [
      "{\n",
      "  \"prediccion\": 1\n",
      "}\n"
     ]
    },
    {
     "name": "stderr",
     "output_type": "stream",
     "text": [
      "  % Total    % Received % Xferd  Average Speed   Time    Time     Time  Current\n",
      "                                 Dload  Upload   Total   Spent    Left  Speed\n",
      "\n",
      "  0     0    0     0    0     0      0      0 --:--:-- --:--:-- --:--:--     0\n",
      "100    52  100    22  100    30   6836   9322 --:--:-- --:--:-- --:--:-- 17333\n"
     ]
    }
   ],
   "source": [
    "!curl --request POST \"http://127.0.0.1:8000/svm_predict\" \\\n",
    "--header \"Content-Type: application/json\" \\\n",
    "--data-raw \"{\\\n",
    "    \\\"new_flower\\\":[1.5,2.5]\\\n",
    "}\"  "
   ]
  },
  {
   "cell_type": "code",
   "execution_count": 47,
   "metadata": {},
   "outputs": [
    {
     "name": "stdout",
     "output_type": "stream",
     "text": [
      "{\n",
      "  \"prediccion\": 1\n",
      "}\n"
     ]
    },
    {
     "name": "stderr",
     "output_type": "stream",
     "text": [
      "  % Total    % Received % Xferd  Average Speed   Time    Time     Time  Current\n",
      "                                 Dload  Upload   Total   Spent    Left  Speed\n",
      "\n",
      "  0     0    0     0    0     0      0      0 --:--:-- --:--:-- --:--:--     0\n",
      "100    54  100    22  100    32   6107   8883 --:--:-- --:--:-- --:--:-- 18000\n"
     ]
    }
   ],
   "source": [
    "!curl --request POST \"http://127.0.0.1:8000/svm_predict\" \\\n",
    "--header \"Content-Type: application/json\" \\\n",
    "--data-raw \"{\\\n",
    "      \\\"new_flower\\\":[0.4,2.5]\\\n",
    "}\"  "
   ]
  },
  {
   "cell_type": "markdown",
   "metadata": {},
   "source": [
    "2 peticiones del cliente hacia endpoint de prediccion con decision tree"
   ]
  },
  {
   "cell_type": "code",
   "execution_count": 36,
   "metadata": {},
   "outputs": [
    {
     "name": "stdout",
     "output_type": "stream",
     "text": [
      "{\n",
      "  \"prediccion\": 1\n",
      "}\n"
     ]
    },
    {
     "name": "stderr",
     "output_type": "stream",
     "text": [
      "  % Total    % Received % Xferd  Average Speed   Time    Time     Time  Current\n",
      "                                 Dload  Upload   Total   Spent    Left  Speed\n",
      "\n",
      "  0     0    0     0    0     0      0      0 --:--:-- --:--:-- --:--:--     0\n",
      "100    52  100    22  100    30   4561   6220 --:--:-- --:--:-- --:--:-- 13000\n"
     ]
    }
   ],
   "source": [
    "!curl --request POST \"http://127.0.0.1:8000/decision_tree_predict\" \\\n",
    "--header \"Content-Type: application/json\" \\\n",
    "--data-raw \"{\\\n",
    "    \\\"new_flower\\\":[1.5,2.5]\\\n",
    "}\"  "
   ]
  },
  {
   "cell_type": "code",
   "execution_count": 48,
   "metadata": {},
   "outputs": [
    {
     "name": "stdout",
     "output_type": "stream",
     "text": [
      "{\n",
      "  \"prediccion\": 1\n",
      "}\n"
     ]
    },
    {
     "name": "stderr",
     "output_type": "stream",
     "text": [
      "  % Total    % Received % Xferd  Average Speed   Time    Time     Time  Current\n",
      "                                 Dload  Upload   Total   Spent    Left  Speed\n",
      "\n",
      "  0     0    0     0    0     0      0      0 --:--:-- --:--:-- --:--:--     0\n",
      "100    53  100    22  100    31   1348   1900 --:--:-- --:--:-- --:--:--  3312\n"
     ]
    }
   ],
   "source": [
    "!curl --request POST \"http://127.0.0.1:8000/decision_tree_predict\" \\\n",
    "--header \"Content-Type: application/json\" \\\n",
    "--data-raw \"{\\\n",
    "     \\\"new_flower\\\":[0.4,2.5]\\\n",
    "}\"  "
   ]
  },
  {
   "cell_type": "markdown",
   "metadata": {},
   "source": [
    "2 peticiones del cliente hacia endpoint de prediccion con knn"
   ]
  },
  {
   "cell_type": "code",
   "execution_count": 34,
   "metadata": {},
   "outputs": [
    {
     "name": "stdout",
     "output_type": "stream",
     "text": [
      "{\n",
      "  \"prediccion\": 1\n",
      "}\n"
     ]
    },
    {
     "name": "stderr",
     "output_type": "stream",
     "text": [
      "  % Total    % Received % Xferd  Average Speed   Time    Time     Time  Current\n",
      "                                 Dload  Upload   Total   Spent    Left  Speed\n",
      "\n",
      "  0     0    0     0    0     0      0      0 --:--:-- --:--:-- --:--:--     0\n",
      "100    52  100    22  100    30   4187   5709 --:--:-- --:--:-- --:--:-- 10400\n"
     ]
    }
   ],
   "source": [
    "!curl --request POST \"http://127.0.0.1:8000/knn_predict\" \\\n",
    "--header \"Content-Type: application/json\" \\\n",
    "--data-raw \"{\\\n",
    "    \\\"new_flower\\\":[1.5,2.5]\\\n",
    "}\"  "
   ]
  },
  {
   "cell_type": "code",
   "execution_count": 49,
   "metadata": {},
   "outputs": [
    {
     "name": "stdout",
     "output_type": "stream",
     "text": [
      "{\n",
      "  \"prediccion\": 1\n",
      "}\n"
     ]
    },
    {
     "name": "stderr",
     "output_type": "stream",
     "text": [
      "  % Total    % Received % Xferd  Average Speed   Time    Time     Time  Current\n",
      "                                 Dload  Upload   Total   Spent    Left  Speed\n",
      "\n",
      "  0     0    0     0    0     0      0      0 --:--:-- --:--:-- --:--:--     0\n",
      "100    52  100    22  100    30   4491   6124 --:--:-- --:--:-- --:--:-- 13000\n"
     ]
    }
   ],
   "source": [
    "!curl --request POST \"http://127.0.0.1:8000/knn_predict\" \\\n",
    "--header \"Content-Type: application/json\" \\\n",
    "--data-raw \"{\\\n",
    "    \\\"new_flower\\\":[0.4,2.5]\\\n",
    "}\"  "
   ]
  }
 ],
 "metadata": {
  "kernelspec": {
   "display_name": "cas-practic-044QdH34-py3.12",
   "language": "python",
   "name": "python3"
  },
  "language_info": {
   "codemirror_mode": {
    "name": "ipython",
    "version": 3
   },
   "file_extension": ".py",
   "mimetype": "text/x-python",
   "name": "python",
   "nbconvert_exporter": "python",
   "pygments_lexer": "ipython3",
   "version": "3.12.0"
  }
 },
 "nbformat": 4,
 "nbformat_minor": 2
}

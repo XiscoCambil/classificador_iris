{
 "cells": [
  {
   "cell_type": "code",
   "execution_count": 1,
   "metadata": {},
   "outputs": [
    {
     "data": {
      "text/plain": [
       "array([[ 0.89820289,  1.44587881],\n",
       "       [-1.16537974, -1.04507821],\n",
       "       [-1.33269725, -1.17618121],\n",
       "       [ 0.39625036,  0.65926081],\n",
       "       [ 0.34047786,  0.2659518 ],\n",
       "       [ 0.11738784,  0.1348488 ],\n",
       "       [ 1.12129291,  0.79036381],\n",
       "       [ 0.39625036,  0.3970548 ],\n",
       "       [ 0.84243039,  0.92146681],\n",
       "       [-1.38846976, -1.04507821],\n",
       "       [-1.27692475, -1.04507821],\n",
       "       [ 0.61934037,  0.79036381],\n",
       "       [-1.33269725, -1.30728421],\n",
       "       [-0.27301968, -0.2584602 ],\n",
       "       [-1.33269725, -1.30728421],\n",
       "       [ 0.56356787,  0.2659518 ],\n",
       "       [ 0.73088538,  1.44587881],\n",
       "       [ 0.39625036,  0.3970548 ],\n",
       "       [ 0.28470535,  0.1348488 ],\n",
       "       [ 0.78665788,  1.05256981],\n",
       "       [ 1.17706541,  1.18367281],\n",
       "       [-1.33269725, -1.43838721],\n",
       "       [ 0.34047786,  0.2659518 ],\n",
       "       [ 0.61934037,  1.05256981],\n",
       "       [ 0.22893285,  0.1348488 ],\n",
       "       [ 0.50779537,  0.5281578 ],\n",
       "       [-0.4403372 , -0.1273572 ],\n",
       "       [ 1.0655204 ,  1.70808482],\n",
       "       [-1.22115225, -0.78287221],\n",
       "       [ 0.67511288,  1.05256981],\n",
       "       [-1.22115225, -1.30728421],\n",
       "       [-1.33269725, -1.30728421],\n",
       "       [ 0.11738784, -0.2584602 ],\n",
       "       [ 0.11738784,  0.1348488 ],\n",
       "       [ 1.40015543,  0.79036381],\n",
       "       [ 0.9539754 ,  1.18367281],\n",
       "       [-1.33269725, -1.43838721],\n",
       "       [-1.22115225, -1.30728421],\n",
       "       [-1.33269725, -1.30728421],\n",
       "       [ 0.50779537,  0.2659518 ],\n",
       "       [ 1.0655204 ,  1.44587881],\n",
       "       [ 0.73088538,  0.79036381],\n",
       "       [ 0.45202286,  0.3970548 ],\n",
       "       [-1.27692475, -1.30728421],\n",
       "       [-1.27692475, -1.43838721]])"
      ]
     },
     "execution_count": 1,
     "metadata": {},
     "output_type": "execute_result"
    }
   ],
   "source": [
    "from sklearn import datasets\n",
    "from sklearn.model_selection import train_test_split\n",
    "from sklearn.preprocessing import StandardScaler\n",
    "from sklearn.linear_model import LogisticRegression\n",
    "from sklearn.metrics import accuracy_score\n",
    "import pickle\n",
    "\n",
    "iris = datasets.load_iris()\n",
    "\n",
    "X = iris.data[:,[2,3]]\n",
    "y = iris.target\n",
    "\n",
    "X_train, X_test, y_train, y_test = train_test_split(X,y,test_size = 0.3, random_state = 1, stratify = y)\n",
    "\n",
    "sc = StandardScaler()\n",
    "sc.fit(X_train)\n",
    "X_train_std = sc.transform(X_train)\n",
    "X_test_std = sc.transform(X_test)\n",
    "\n",
    "model = LogisticRegression(C=100.0,\n",
    "                        random_state = 1,\n",
    "                        solver = 'lbfgs',\n",
    "                        multi_class='ovr')\n",
    "\n",
    "model.fit(X_train_std, y_train)   \n",
    "\n",
    "y_pred = model.predict(X_test_std)\n",
    "\n",
    "accuracy = accuracy_score(y_test, y_pred)\n",
    "\n",
    "with open('../models/regression_logistic_model.pck', 'wb') as f:\n",
    "    pickle.dump((model, sc), f)\n",
    "\n"
   ]
  }
 ],
 "metadata": {
  "kernelspec": {
   "display_name": "cas-practic-044QdH34-py3.12",
   "language": "python",
   "name": "python3"
  },
  "language_info": {
   "codemirror_mode": {
    "name": "ipython",
    "version": 3
   },
   "file_extension": ".py",
   "mimetype": "text/x-python",
   "name": "python",
   "nbconvert_exporter": "python",
   "pygments_lexer": "ipython3",
   "version": "3.12.0"
  }
 },
 "nbformat": 4,
 "nbformat_minor": 2
}
